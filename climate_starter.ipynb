{
 "cells": [
  {
   "cell_type": "code",
   "execution_count": 2,
   "metadata": {},
   "outputs": [],
   "source": [
    "%matplotlib inline\n",
    "from matplotlib import style\n",
    "style.use('fivethirtyeight')\n",
    "import matplotlib.pyplot as plt"
   ]
  },
  {
   "cell_type": "code",
   "execution_count": 3,
   "metadata": {},
   "outputs": [],
   "source": [
    "import numpy as np\n",
    "import pandas as pd"
   ]
  },
  {
   "cell_type": "code",
   "execution_count": 4,
   "metadata": {},
   "outputs": [],
   "source": [
    "from datetime import datetime as dt"
   ]
  },
  {
   "cell_type": "markdown",
   "metadata": {},
   "source": [
    "# Reflect Tables into SQLAlchemy ORM"
   ]
  },
  {
   "cell_type": "code",
   "execution_count": 5,
   "metadata": {},
   "outputs": [],
   "source": [
    "# Python SQL toolkit and Object Relational Mapper\n",
    "import sqlalchemy\n",
    "from sqlalchemy.ext.automap import automap_base\n",
    "from sqlalchemy.orm import Session\n",
    "from sqlalchemy import create_engine, func"
   ]
  },
  {
   "cell_type": "code",
   "execution_count": 6,
   "metadata": {},
   "outputs": [],
   "source": [
    "engine = create_engine(\"sqlite:///Resources/hawaii.sqlite\")"
   ]
  },
  {
   "cell_type": "code",
   "execution_count": 7,
   "metadata": {},
   "outputs": [],
   "source": [
    "# reflect an existing database into a new model\n",
    "Base = automap_base()\n",
    "# reflect the tables\n",
    "Base.prepare(engine, reflect=True)"
   ]
  },
  {
   "cell_type": "code",
   "execution_count": 8,
   "metadata": {},
   "outputs": [
    {
     "data": {
      "text/plain": [
       "['measurement', 'station']"
      ]
     },
     "execution_count": 8,
     "metadata": {},
     "output_type": "execute_result"
    }
   ],
   "source": [
    "# We can view all of the classes that automap found\n",
    "Base.classes.keys()"
   ]
  },
  {
   "cell_type": "code",
   "execution_count": 9,
   "metadata": {},
   "outputs": [],
   "source": [
    "# Save references to each table\n",
    "Measurement = Base.classes.measurement\n",
    "Station = Base.classes.station"
   ]
  },
  {
   "cell_type": "code",
   "execution_count": 10,
   "metadata": {},
   "outputs": [],
   "source": [
    "# Create our session (link) from Python to the DB\n",
    "session = Session(engine)"
   ]
  },
  {
   "cell_type": "markdown",
   "metadata": {},
   "source": [
    "# Exploratory Climate Analysis"
   ]
  },
  {
   "cell_type": "markdown",
   "metadata": {},
   "source": [
    "## Precipitation Analysis"
   ]
  },
  {
   "cell_type": "code",
   "execution_count": 55,
   "metadata": {},
   "outputs": [
    {
     "data": {
      "text/plain": [
       "[('2010-01-01', 0.08),\n",
       " ('2010-01-02', 0.0),\n",
       " ('2010-01-03', 0.0),\n",
       " ('2010-01-04', 0.0),\n",
       " ('2010-01-06', None),\n",
       " ('2010-01-07', 0.06),\n",
       " ('2010-01-08', 0.0),\n",
       " ('2010-01-09', 0.0),\n",
       " ('2010-01-10', 0.0),\n",
       " ('2010-01-11', 0.01),\n",
       " ('2010-01-12', 0.0),\n",
       " ('2010-01-14', 0.0),\n",
       " ('2010-01-15', 0.0),\n",
       " ('2010-01-16', 0.0),\n",
       " ('2010-01-17', 0.0),\n",
       " ('2010-01-18', 0.0),\n",
       " ('2010-01-19', 0.0),\n",
       " ('2010-01-20', 0.0),\n",
       " ('2010-01-21', 0.0),\n",
       " ('2010-01-22', 0.0),\n",
       " ('2010-01-23', 0.0),\n",
       " ('2010-01-24', 0.01),\n",
       " ('2010-01-25', 0.0),\n",
       " ('2010-01-26', 0.04),\n",
       " ('2010-01-27', 0.12),\n",
       " ('2010-01-28', 0.0),\n",
       " ('2010-01-30', None),\n",
       " ('2010-01-31', 0.03),\n",
       " ('2010-02-01', 0.01),\n",
       " ('2010-02-03', None),\n",
       " ('2010-02-04', 0.01),\n",
       " ('2010-02-05', 0.0),\n",
       " ('2010-02-06', 0.0),\n",
       " ('2010-02-07', 0.0),\n",
       " ('2010-02-08', 0.0),\n",
       " ('2010-02-09', 0.0),\n",
       " ('2010-02-11', 0.0),\n",
       " ('2010-02-12', 0.02),\n",
       " ('2010-02-13', 0.01),\n",
       " ('2010-02-14', 0.0),\n",
       " ('2010-02-15', 0.0),\n",
       " ('2010-02-16', 0.0),\n",
       " ('2010-02-17', 0.0),\n",
       " ('2010-02-19', None),\n",
       " ('2010-02-20', 0.03),\n",
       " ('2010-02-21', 0.0),\n",
       " ('2010-02-22', 0.0),\n",
       " ('2010-02-23', 0.0),\n",
       " ('2010-02-24', 0.0),\n",
       " ('2010-02-25', 0.0),\n",
       " ('2010-02-26', 0.0),\n",
       " ('2010-02-28', 0.0),\n",
       " ('2010-03-01', 0.01),\n",
       " ('2010-03-02', 0.0),\n",
       " ('2010-03-03', 0.0),\n",
       " ('2010-03-04', 0.12),\n",
       " ('2010-03-05', 0.08),\n",
       " ('2010-03-06', 0.03),\n",
       " ('2010-03-07', 0.0),\n",
       " ('2010-03-08', 0.43),\n",
       " ('2010-03-09', 0.06),\n",
       " ('2010-03-11', None),\n",
       " ('2010-03-12', 0.0),\n",
       " ('2010-03-13', 0.0),\n",
       " ('2010-03-14', 0.0),\n",
       " ('2010-03-15', 0.06),\n",
       " ('2010-03-17', 0.0),\n",
       " ('2010-03-18', 0.0),\n",
       " ('2010-03-21', 0.0),\n",
       " ('2010-03-22', 0.0),\n",
       " ('2010-03-23', 0.0),\n",
       " ('2010-03-24', 0.0),\n",
       " ('2010-03-26', None),\n",
       " ('2010-03-27', 0.0),\n",
       " ('2010-03-28', 0.0),\n",
       " ('2010-03-29', 0.0),\n",
       " ('2010-03-30', 0.0),\n",
       " ('2010-03-31', 0.0),\n",
       " ('2010-04-01', 0.0),\n",
       " ('2010-04-02', 0.01),\n",
       " ('2010-04-03', 0.17),\n",
       " ('2010-04-04', 0.15),\n",
       " ('2010-04-05', 0.27),\n",
       " ('2010-04-06', 0.01),\n",
       " ('2010-04-08', 0.0),\n",
       " ('2010-04-09', 0.01),\n",
       " ('2010-04-10', 0.0),\n",
       " ('2010-04-11', 0.01),\n",
       " ('2010-04-12', 0.01),\n",
       " ('2010-04-13', 0.0),\n",
       " ('2010-04-15', 0.0),\n",
       " ('2010-04-16', 0.01),\n",
       " ('2010-04-17', 0.0),\n",
       " ('2010-04-18', 0.0),\n",
       " ('2010-04-19', 0.0),\n",
       " ('2010-04-20', 0.04),\n",
       " ('2010-04-21', 0.01),\n",
       " ('2010-04-22', 0.0),\n",
       " ('2010-04-23', 0.02),\n",
       " ('2010-04-24', 0.0)]"
      ]
     },
     "execution_count": 55,
     "metadata": {},
     "output_type": "execute_result"
    }
   ],
   "source": [
    "# Design a query to retrieve the last 12 months of precipitation data and plot the results\n",
    "\n",
    "# Calculate the date 1 year ago from the last data point in the database\n",
    "last_date = session.query(Measurement.date).order_by(sqlalchemy.desc(Measurement.date)).limit(1).all()[0][0]\n",
    "last_date_obj = dt.strptime(last_date, '%Y-%m-%d')\n",
    "\n",
    "str_year = str(last_date_obj.year - 1)\n",
    "str_month = str(last_date_obj.month)\n",
    "str_day = str(last_date_obj.day)\n",
    "\n",
    "if last_date_obj.month < 10:\n",
    "    str_month = '0' + str_month\n",
    "if last_date_obj.day < 10:\n",
    "    str_day = '0' + str_day\n",
    "    \n",
    "one_year_ago = str_year + '-' + str_month + '-' + str_day\n",
    "\n",
    "# Perform a query to retrieve the data and precipitation scores\n",
    "#session.query(Measurement.date, Measurement.prcp).limit(100).all()\n",
    "#meas_query = session.query(Measurement.date, Measurement.prcp).filter(Measurement.date > one_year_ago).all()\n",
    "\n",
    "# Save the query results as a Pandas DataFrame and set the index to the date column\n",
    "meas_df = pd.DataFrame(meas_query)\n",
    "meas_by_date = meas_df.set_index('date')\n",
    "\n",
    "# Sort the dataframe by date\n",
    "meas_sort_by_date = meas_by_date.sort_index().groupby('date').max()\n",
    "# Use Pandas Plotting with Matplotlib to plot the data\n",
    "#meas_sort_by_date.plot.bar(xlabel = 'Date', ylabel = 'Inches', xticks=(), width=4)\n",
    "session.query(Measurement.date, Measurement.prcp).limit(100).all()"
   ]
  },
  {
   "cell_type": "code",
   "execution_count": 12,
   "metadata": {},
   "outputs": [
    {
     "data": {
      "text/html": [
       "<div>\n",
       "<style scoped>\n",
       "    .dataframe tbody tr th:only-of-type {\n",
       "        vertical-align: middle;\n",
       "    }\n",
       "\n",
       "    .dataframe tbody tr th {\n",
       "        vertical-align: top;\n",
       "    }\n",
       "\n",
       "    .dataframe thead th {\n",
       "        text-align: right;\n",
       "    }\n",
       "</style>\n",
       "<table border=\"1\" class=\"dataframe\">\n",
       "  <thead>\n",
       "    <tr style=\"text-align: right;\">\n",
       "      <th></th>\n",
       "      <th>prcp</th>\n",
       "    </tr>\n",
       "  </thead>\n",
       "  <tbody>\n",
       "    <tr>\n",
       "      <th>count</th>\n",
       "      <td>2015.000000</td>\n",
       "    </tr>\n",
       "    <tr>\n",
       "      <th>mean</th>\n",
       "      <td>0.176462</td>\n",
       "    </tr>\n",
       "    <tr>\n",
       "      <th>std</th>\n",
       "      <td>0.460288</td>\n",
       "    </tr>\n",
       "    <tr>\n",
       "      <th>min</th>\n",
       "      <td>0.000000</td>\n",
       "    </tr>\n",
       "    <tr>\n",
       "      <th>25%</th>\n",
       "      <td>0.000000</td>\n",
       "    </tr>\n",
       "    <tr>\n",
       "      <th>50%</th>\n",
       "      <td>0.020000</td>\n",
       "    </tr>\n",
       "    <tr>\n",
       "      <th>75%</th>\n",
       "      <td>0.130000</td>\n",
       "    </tr>\n",
       "    <tr>\n",
       "      <th>max</th>\n",
       "      <td>6.700000</td>\n",
       "    </tr>\n",
       "  </tbody>\n",
       "</table>\n",
       "</div>"
      ],
      "text/plain": [
       "              prcp\n",
       "count  2015.000000\n",
       "mean      0.176462\n",
       "std       0.460288\n",
       "min       0.000000\n",
       "25%       0.000000\n",
       "50%       0.020000\n",
       "75%       0.130000\n",
       "max       6.700000"
      ]
     },
     "execution_count": 12,
     "metadata": {},
     "output_type": "execute_result"
    }
   ],
   "source": [
    "meas_by_date.describe()"
   ]
  },
  {
   "cell_type": "markdown",
   "metadata": {},
   "source": [
    "## Station Analysis"
   ]
  },
  {
   "cell_type": "code",
   "execution_count": 13,
   "metadata": {},
   "outputs": [
    {
     "data": {
      "text/plain": [
       "9"
      ]
     },
     "execution_count": 13,
     "metadata": {},
     "output_type": "execute_result"
    }
   ],
   "source": [
    "# Design a query to calculate the total number of stations.\n",
    "len(session.query(Station.id).distinct().all())"
   ]
  },
  {
   "cell_type": "code",
   "execution_count": 14,
   "metadata": {},
   "outputs": [
    {
     "data": {
      "text/plain": [
       "{'_sa_instance_state': <sqlalchemy.orm.state.InstanceState at 0x29b0066d790>,\n",
       " 'prcp': 0.08,\n",
       " 'station': 'USC00519397',\n",
       " 'id': 1,\n",
       " 'tobs': 65.0,\n",
       " 'date': '2010-01-01'}"
      ]
     },
     "execution_count": 14,
     "metadata": {},
     "output_type": "execute_result"
    }
   ],
   "source": [
    "first_row = session.query(Measurement).first()\n",
    "first_row.__dict__"
   ]
  },
  {
   "cell_type": "code",
   "execution_count": 15,
   "metadata": {},
   "outputs": [
    {
     "data": {
      "text/plain": [
       "{'_sa_instance_state': <sqlalchemy.orm.state.InstanceState at 0x29b006f31f0>,\n",
       " 'longitude': -157.8168,\n",
       " 'latitude': 21.2716,\n",
       " 'id': 1,\n",
       " 'elevation': 3.0,\n",
       " 'station': 'USC00519397',\n",
       " 'name': 'WAIKIKI 717.2, HI US'}"
      ]
     },
     "execution_count": 15,
     "metadata": {},
     "output_type": "execute_result"
    }
   ],
   "source": [
    "first_row = session.query(Station).first()\n",
    "first_row.__dict__"
   ]
  },
  {
   "cell_type": "code",
   "execution_count": 17,
   "metadata": {},
   "outputs": [
    {
     "data": {
      "text/plain": [
       "[('USC00519281', 2772),\n",
       " ('USC00519397', 2724),\n",
       " ('USC00513117', 2709),\n",
       " ('USC00519523', 2669),\n",
       " ('USC00516128', 2612),\n",
       " ('USC00514830', 2202),\n",
       " ('USC00511918', 1979),\n",
       " ('USC00517948', 1372),\n",
       " ('USC00518838', 511)]"
      ]
     },
     "execution_count": 17,
     "metadata": {},
     "output_type": "execute_result"
    }
   ],
   "source": [
    "# What are the most active stations? (i.e. what stations have the most rows)?\n",
    "# List the stations and the counts in descending order.\n",
    "most_active_stations = session.query(Measurement.station, func.count(Measurement.station)).order_by(func.count(Measurement.station).desc()).group_by(Measurement.station).all()\n",
    "most_active_stations"
   ]
  },
  {
   "cell_type": "code",
   "execution_count": 34,
   "metadata": {},
   "outputs": [
    {
     "name": "stdout",
     "output_type": "stream",
     "text": [
      "Most active station:  USC00519281\n",
      "Lowest temperature recorded by most active station(F):  54.0\n",
      "Highest temperature recorded by most active station(F):  85.0\n",
      "Average temperature recorded by most active station(F):  70.0\n"
     ]
    }
   ],
   "source": [
    "# Using the station id from the previous query, calculate the lowest temperature recorded, \n",
    "# highest temperature recorded, and average temperature of the most active station?\n",
    "most_active_station = most_active_stations[0][0]\n",
    "print(f'Most active station: ', most_active_station)\n",
    "lowest_temp = session.query(Measurement.station, Measurement.tobs).group_by(Measurement.station).having(func.min(Measurement.tobs)).filter(Measurement.station == most_active_station).all()[0][1]\n",
    "print(f'Lowest temperature recorded by most active station(F): ', lowest_temp)\n",
    "highest_temp = session.query(Measurement.station, Measurement.tobs).group_by(Measurement.station).having(func.max(Measurement.tobs)).filter(Measurement.station == most_active_station).all()[0][1]\n",
    "print(f'Highest temperature recorded by most active station(F): ', highest_temp)\n",
    "avg_temp = session.query(Measurement.station, Measurement.tobs).group_by(Measurement.station).having(func.avg(Measurement.tobs)).filter(Measurement.station == most_active_station).all()[0][1]\n",
    "print(f'Average temperature recorded by most active station(F): ', avg_temp)"
   ]
  },
  {
   "cell_type": "code",
   "execution_count": 56,
   "metadata": {},
   "outputs": [
    {
     "data": {
      "text/plain": [
       "[('USC00519281', 0),\n",
       " ('USC00519397', 0),\n",
       " ('USC00513117', 0),\n",
       " ('USC00519523', 0),\n",
       " ('USC00516128', 0),\n",
       " ('USC00514830', 0),\n",
       " ('USC00511918', 0),\n",
       " ('USC00517948', 0),\n",
       " ('USC00518838', 0)]"
      ]
     },
     "execution_count": 56,
     "metadata": {},
     "output_type": "execute_result"
    }
   ],
   "source": [
    "# Choose the station with the highest number of temperature observations.\n",
    "# Query the last 12 months of temperature observation data for this station and plot the results as a histogram\n",
    "session.query(Measurement.station, func.count(Measurement.tobs).filter(Measurement.tobs == 'None')).order_by(func.count(Measurement.tobs).desc()).group_by(Measurement.station).all()"
   ]
  },
  {
   "cell_type": "markdown",
   "metadata": {},
   "source": [
    "## Bonus Challenge Assignment"
   ]
  },
  {
   "cell_type": "code",
   "execution_count": null,
   "metadata": {},
   "outputs": [],
   "source": [
    "# This function called `calc_temps` will accept start date and end date in the format '%Y-%m-%d' \n",
    "# and return the minimum, average, and maximum temperatures for that range of dates\n",
    "def calc_temps(start_date, end_date):\n",
    "    \"\"\"TMIN, TAVG, and TMAX for a list of dates.\n",
    "    \n",
    "    Args:\n",
    "        start_date (string): A date string in the format %Y-%m-%d\n",
    "        end_date (string): A date string in the format %Y-%m-%d\n",
    "        \n",
    "    Returns:\n",
    "        TMIN, TAVE, and TMAX\n",
    "    \"\"\"\n",
    "    \n",
    "    return session.query(func.min(Measurement.tobs), func.avg(Measurement.tobs), func.max(Measurement.tobs)).\\\n",
    "        filter(Measurement.date >= start_date).filter(Measurement.date <= end_date).all()\n",
    "\n",
    "# function usage example\n",
    "print(calc_temps('2012-02-28', '2012-03-05'))"
   ]
  },
  {
   "cell_type": "code",
   "execution_count": null,
   "metadata": {},
   "outputs": [],
   "source": [
    "# Use your previous function `calc_temps` to calculate the tmin, tavg, and tmax \n",
    "# for your trip using the previous year's data for those same dates.\n"
   ]
  },
  {
   "cell_type": "code",
   "execution_count": null,
   "metadata": {},
   "outputs": [],
   "source": [
    "# Plot the results from your previous query as a bar chart. \n",
    "# Use \"Trip Avg Temp\" as your Title\n",
    "# Use the average temperature for the y value\n",
    "# Use the peak-to-peak (tmax-tmin) value as the y error bar (yerr)\n"
   ]
  },
  {
   "cell_type": "code",
   "execution_count": null,
   "metadata": {},
   "outputs": [],
   "source": [
    "# Calculate the total amount of rainfall per weather station for your trip dates using the previous year's matching dates.\n",
    "# Sort this in descending order by precipitation amount and list the station, name, latitude, longitude, and elevation\n",
    "\n"
   ]
  },
  {
   "cell_type": "code",
   "execution_count": null,
   "metadata": {},
   "outputs": [],
   "source": [
    "# Create a query that will calculate the daily normals \n",
    "# (i.e. the averages for tmin, tmax, and tavg for all historic data matching a specific month and day)\n",
    "\n",
    "def daily_normals(date):\n",
    "    \"\"\"Daily Normals.\n",
    "    \n",
    "    Args:\n",
    "        date (str): A date string in the format '%m-%d'\n",
    "        \n",
    "    Returns:\n",
    "        A list of tuples containing the daily normals, tmin, tavg, and tmax\n",
    "    \n",
    "    \"\"\"\n",
    "    \n",
    "    sel = [func.min(Measurement.tobs), func.avg(Measurement.tobs), func.max(Measurement.tobs)]\n",
    "    return session.query(*sel).filter(func.strftime(\"%m-%d\", Measurement.date) == date).all()\n",
    "    \n",
    "daily_normals(\"01-01\")"
   ]
  },
  {
   "cell_type": "code",
   "execution_count": null,
   "metadata": {},
   "outputs": [],
   "source": [
    "# calculate the daily normals for your trip\n",
    "# push each tuple of calculations into a list called `normals`\n",
    "\n",
    "# Set the start and end date of the trip\n",
    "\n",
    "# Use the start and end date to create a range of dates\n",
    "\n",
    "# Stip off the year and save a list of %m-%d strings\n",
    "\n",
    "# Loop through the list of %m-%d strings and calculate the normals for each date\n"
   ]
  },
  {
   "cell_type": "code",
   "execution_count": null,
   "metadata": {},
   "outputs": [],
   "source": [
    "# Load the previous query results into a Pandas DataFrame and add the `trip_dates` range as the `date` index\n"
   ]
  },
  {
   "cell_type": "code",
   "execution_count": null,
   "metadata": {},
   "outputs": [],
   "source": [
    "# Plot the daily normals as an area plot with `stacked=False`\n"
   ]
  }
 ],
 "metadata": {
  "kernel_info": {
   "name": "python3"
  },
  "kernelspec": {
   "display_name": "PythonData",
   "language": "python",
   "name": "pythondata"
  },
  "language_info": {
   "codemirror_mode": {
    "name": "ipython",
    "version": 3
   },
   "file_extension": ".py",
   "mimetype": "text/x-python",
   "name": "python",
   "nbconvert_exporter": "python",
   "pygments_lexer": "ipython3",
   "version": "3.8.3"
  },
  "nteract": {
   "version": "0.12.3"
  },
  "varInspector": {
   "cols": {
    "lenName": 16,
    "lenType": 16,
    "lenVar": 40
   },
   "kernels_config": {
    "python": {
     "delete_cmd_postfix": "",
     "delete_cmd_prefix": "del ",
     "library": "var_list.py",
     "varRefreshCmd": "print(var_dic_list())"
    },
    "r": {
     "delete_cmd_postfix": ") ",
     "delete_cmd_prefix": "rm(",
     "library": "var_list.r",
     "varRefreshCmd": "cat(var_dic_list()) "
    }
   },
   "types_to_exclude": [
    "module",
    "function",
    "builtin_function_or_method",
    "instance",
    "_Feature"
   ],
   "window_display": false
  }
 },
 "nbformat": 4,
 "nbformat_minor": 2
}
